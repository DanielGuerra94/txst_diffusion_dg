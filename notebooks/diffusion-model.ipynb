{
 "cells": [
  {
   "cell_type": "markdown",
   "id": "0a214f9b-0396-4322-a197-a1b759331556",
   "metadata": {},
   "source": [
    "# A 1D diffusion model"
   ]
  },
  {
   "cell_type": "markdown",
   "id": "ebcb589b-19de-44fc-88ff-f06b22e5af14",
   "metadata": {},
   "source": [
    "Here we develop a one-dimensinal model of diffusion.\n",
    "It assumes a constant diffusivity.\n",
    "It uses a regular grid.\n",
    "It has fixed boundary conditions."
   ]
  },
  {
   "cell_type": "markdown",
   "id": "82225b9d-2969-4da3-8484-69999b2618ee",
   "metadata": {},
   "source": [
    "The diffusion equation:\n",
    "\n",
    "$$ \\frac{\\partial C}{\\partial t} = D\\frac{\\partial^2 C}{\\partial x^2} $$\n",
    "\n",
    "The discretized version of the diffusion equation that we'll solve with our model:\n",
    "\n",
    "$$ C^{t+1}_x = C^t_x + {D \\Delta t \\over \\Delta x^2} (C^t_{x+1} - 2C^t_x + C^t_{x-1}) $$\n",
    "\n",
    "This is the explicit FTCS scheme as described in Slingerland and Kump (2011). (Or see Wikipedia.)"
   ]
  },
  {
   "cell_type": "markdown",
   "id": "6339bd67-557c-4174-bb9a-8c7061e34221",
   "metadata": {},
   "source": [
    "We will use two libraries, Numpy (for arrays)\n",
    "and Matplotlib (for plotting)\n",
    "that aren't a part of the base Python distribution."
   ]
  },
  {
   "cell_type": "code",
   "execution_count": null,
   "id": "dcb1965b-d313-4ffd-93e5-aad0bddd9ebe",
   "metadata": {},
   "outputs": [],
   "source": [
    "import numpy as np\n",
    "import matplotlib.pyplot as plt"
   ]
  },
  {
   "cell_type": "markdown",
   "id": "4af36cb1-8e9e-4ad4-a77c-c42fef1632c9",
   "metadata": {},
   "source": [
    "Set two fixed model parameters, the diffusivity and the size of the model domaimn."
   ]
  },
  {
   "cell_type": "code",
   "execution_count": null,
   "id": "4db55fda-fb55-47ba-a6dd-171e9ecd8841",
   "metadata": {},
   "outputs": [],
   "source": [
    "D = 100 # diffusivity\n",
    "Lx = 300 # length of grid"
   ]
  },
  {
   "cell_type": "markdown",
   "id": "417201d9-fd05-4690-86a4-0aa27f850833",
   "metadata": {},
   "source": [
    "Next, set up the model grid using a NumPy array."
   ]
  },
  {
   "cell_type": "code",
   "execution_count": null,
   "id": "32edff96-5480-4d1c-a69d-7961527fa3e8",
   "metadata": {},
   "outputs": [],
   "source": [
    "dx = 0.5 # step size\n",
    "x = np.arange(start=0, stop=Lx, step=dx) # array\n",
    "nx = len(x) # array length"
   ]
  },
  {
   "cell_type": "code",
   "execution_count": null,
   "id": "917ba9fe-322c-49bb-9b2f-3bad4b3f9c57",
   "metadata": {},
   "outputs": [],
   "source": [
    "x[0] #python counts from 0"
   ]
  },
  {
   "cell_type": "code",
   "execution_count": null,
   "id": "45458f56-ca5f-4670-bdff-7adcd992f521",
   "metadata": {},
   "outputs": [],
   "source": [
    "x[nx-1]"
   ]
  },
  {
   "cell_type": "code",
   "execution_count": null,
   "id": "421db75a-4eb6-44d4-8b4f-d63a61f5607e",
   "metadata": {},
   "outputs": [],
   "source": [
    "x[-1]"
   ]
  },
  {
   "cell_type": "code",
   "execution_count": null,
   "id": "1de8cb3d-077c-4052-8e9f-1a5cfde924ee",
   "metadata": {},
   "outputs": [],
   "source": [
    "x[0:5] #index is open on the right end, this will print 0:4 in R"
   ]
  },
  {
   "cell_type": "markdown",
   "id": "37f30f1c-2edd-4d49-811b-299eec94b17d",
   "metadata": {},
   "source": [
    "Set the initial concentration profile for the model.\n",
    "The concentration `C` is a step function with a high value on the left , a low value on the right, and the step at the center of the domain."
   ]
  },
  {
   "cell_type": "code",
   "execution_count": null,
   "id": "4f751670-04e8-4b0d-8426-8f3965c4e6c4",
   "metadata": {},
   "outputs": [],
   "source": [
    "C = np.zeros_like(x) #creates array filled with zeros mirroring array x\n",
    "C_left = 500\n",
    "C_right = 0\n",
    "C[x <= Lx//2] = C_left # // returns integers only\n",
    "C[x > Lx//2] = C_right"
   ]
  },
  {
   "cell_type": "markdown",
   "id": "e47befbb-303a-4d7a-9858-fc4809d8316f",
   "metadata": {},
   "source": [
    "Plot initial profile."
   ]
  },
  {
   "cell_type": "code",
   "execution_count": null,
   "id": "ee2aa54d-3d1b-403f-87de-22ca4b4f81a2",
   "metadata": {},
   "outputs": [],
   "source": [
    "plt.figure()\n",
    "plt.plot(x,C,\"r\")\n",
    "plt.xlabel(\"x\")\n",
    "plt.ylabel(\"C\")\n",
    "plt.title(\"Initial concentration profile\")"
   ]
  },
  {
   "cell_type": "markdown",
   "id": "bb580114-d2d5-4e74-a570-6a93e1228847",
   "metadata": {},
   "source": [
    "Set the start time of the model and the number of time steps.\n",
    "Calculate a stable time step for the model using a stability criterion."
   ]
  },
  {
   "cell_type": "code",
   "execution_count": null,
   "id": "c5a70e11-705e-4f6a-b94b-e6a671aa60ef",
   "metadata": {},
   "outputs": [],
   "source": [
    "time = 0\n",
    "nt = 5000\n",
    "dt = 0.5 * dx**2 / D # ** = ^ in R"
   ]
  },
  {
   "cell_type": "code",
   "execution_count": null,
   "id": "50d1778f-21e1-4a3a-8c0b-dd6188ed8544",
   "metadata": {},
   "outputs": [],
   "source": [
    "dt"
   ]
  },
  {
   "cell_type": "markdown",
   "id": "ef637bdd-d281-432e-bb65-28a1b25aca90",
   "metadata": {},
   "source": [
    "Loop over the time steps of the model, solving the diffusion equation using the FTCS explicit scheme described above. The boundary conditions are fixed, so reset them at each time step."
   ]
  },
  {
   "cell_type": "code",
   "execution_count": null,
   "id": "f5ac959e-8580-41b5-9e3c-82676f73c45f",
   "metadata": {},
   "outputs": [],
   "source": [
    "for t in range(0, nt):\n",
    "    C += D * dt / dx**2 * (np.roll(C, -1) - 2*C + np.roll(C, 1)) # += adds current value to result\n",
    "    C[0] = C_left\n",
    "    C[-1] = C_right"
   ]
  },
  {
   "cell_type": "markdown",
   "id": "e6532262-6739-411d-9604-c6fbaa38d4d0",
   "metadata": {},
   "source": [
    "Plot the result."
   ]
  },
  {
   "cell_type": "code",
   "execution_count": null,
   "id": "245870b0-be81-4540-af60-70e645cd77e1",
   "metadata": {},
   "outputs": [],
   "source": [
    "plt.figure()\n",
    "plt.plot(x, C, \"b\")\n",
    "plt.xlabel(\"x\")\n",
    "plt.ylabel(\"C\")\n",
    "plt.title(\"Final concentration profile\")"
   ]
  },
  {
   "cell_type": "code",
   "execution_count": null,
   "id": "635f3126-f8ed-48f8-b42b-cca8ff3fe67d",
   "metadata": {},
   "outputs": [],
   "source": []
  }
 ],
 "metadata": {
  "kernelspec": {
   "display_name": "CSDMS",
   "language": "python",
   "name": "csdms"
  },
  "language_info": {
   "codemirror_mode": {
    "name": "ipython",
    "version": 3
   },
   "file_extension": ".py",
   "mimetype": "text/x-python",
   "name": "python",
   "nbconvert_exporter": "python",
   "pygments_lexer": "ipython3",
   "version": "3.12.7"
  }
 },
 "nbformat": 4,
 "nbformat_minor": 5
}
